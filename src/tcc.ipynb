{
 "cells": [
  {
   "cell_type": "code",
   "execution_count": null,
   "metadata": {
    "_cell_guid": "b1076dfc-b9ad-4769-8c92-a6c4dae69d19",
    "_uuid": "8f2839f25d086af736a60e9eeb907d3b93b6e0e5",
    "id": "ZupQDr9J-icw",
    "outputId": "615c2281-5a37-4c21-f9ba-5a2a0d8ff70e"
   },
   "outputs": [],
   "source": [
    "import pandas as pd\n",
    "import numpy as np\n",
    "import matplotlib.pyplot as plt\n",
    "import cv2 as cv\n",
    "import nibabel as nib\n",
    "import imgaug as ia\n",
    "import imgaug.augmenters as iaa\n",
    "import tqdm\n",
    "import warnings\n",
    "import tensorflow as tf\n",
    "from tensorflow.keras.callbacks import EarlyStopping, ReduceLROnPlateau\n",
    "from tensorflow.keras.models import Model\n",
    "from tensorflow.keras.layers import Input, BatchNormalization, Activation, Dropout\n",
    "from tensorflow.keras.layers import concatenate, Conv2D, MaxPooling2D, Conv2DTranspose\n",
    "from tensorflow.keras.utils import plot_model\n",
    "from sklearn.model_selection import train_test_split\n",
    "from sklearn.utils import shuffle\n",
    "\n",
    "warnings.filterwarnings('ignore')\n",
    "print(\"Version: \", tf.version.VERSION)\n",
    "if tf.test.gpu_device_name():\n",
    "    print('Default GPU Device: {}'.format(tf.test.gpu_device_name()))\n",
    "else:\n",
    "    print(\"Please install GPU version of TF\")"
   ]
  },
  {
   "cell_type": "markdown",
   "metadata": {
    "id": "26-GKjVy-2d6"
   },
   "source": [
    "## 1. Load metada"
   ]
  },
  {
   "cell_type": "code",
   "execution_count": null,
   "metadata": {
    "_cell_guid": "79c7e3d0-c299-4dcb-8224-4455121ee9b0",
    "_uuid": "d629ff2d2480ee46fbb7e2d37f6b5fab8052498a",
    "id": "ljsQWU-d-ic0",
    "outputId": "8154b807-5bf2-434f-9344-1f2db2cc87be"
   },
   "outputs": [],
   "source": [
    "metadata = pd.read_csv('../input/covid19-ct-scans/metadata.csv')\n",
    "metadata.head()"
   ]
  },
  {
   "cell_type": "code",
   "execution_count": null,
   "metadata": {
    "id": "fp4D3sLdy7Os"
   },
   "outputs": [],
   "source": [
    "ORIGINAL_IMG_SIZE = 512\n",
    "TRAIN_IMG_SIZE = 128\n",
    "TRAIN_IMG_CHANNELS = 1\n",
    "SEED = 42\n",
    "ia.seed(SEED)\n",
    "np.random.seed = SEED\n",
    "tf.seed = SEED\n",
    "CLAHE = cv.createCLAHE(clipLimit=3.0)"
   ]
  },
  {
   "cell_type": "code",
   "execution_count": null,
   "metadata": {},
   "outputs": [],
   "source": [
    "def show_image(img, title, show_hist, axes):\n",
    "    axes[0].imshow(img, cmap='bone')\n",
    "    axes[0].set_title(title)\n",
    "    axes[0].set_xticks([]); axes[0].set_yticks([])\n",
    "    \n",
    "    if show_hist:\n",
    "        axes[1].hist(img.flatten(), bins=256)\n",
    "        axes[1].set_title(f\"{title} histograma\")\n",
    "        axes[1].set_xticks([]); axes[1].set_yticks([])\n",
    "\n",
    "def show_data(cts, lungs, infections, index, axes):        \n",
    "    axes[0].imshow(cts[index], cmap='bone')\n",
    "    axes[0].set_title(\"Tomografia\")\n",
    "    axes[0].set_xticks([]); axes[0].set_yticks([])\n",
    "    \n",
    "    axes[1].imshow(lungs[index], cmap='bone')\n",
    "    axes[1].set_title(\"Máscara Pulmonar\")\n",
    "    axes[1].set_xticks([]); axes[1].set_yticks([])\n",
    "\n",
    "    axes[2].imshow(infections[index], cmap='bone')\n",
    "    axes[2].set_title(\"Máscara das lesões\")\n",
    "    axes[2].set_xticks([]); axes[2].set_yticks([])\n",
    "    \n",
    "def show_overlay_infection(cts, infections, percent, index, axes) :\n",
    "    axes[0].imshow(cts[index], cmap='bone')\n",
    "    axes[0].set_xticks([]); axes[0].set_yticks([])\n",
    "    axes[0].set_title('Tomografia')\n",
    "\n",
    "    axes[1].imshow(cts[index], cmap='bone')\n",
    "    axes[1].imshow(infections[index], alpha=0.65, cmap='nipy_spectral')\n",
    "    axes[1].set_xticks([]); axes[1].set_yticks([])\n",
    "    axes[1].set_title('Lesões')\n",
    "    axes[1].set_xlabel(f\"Porcentagem do pulmão afetado: {percent}%\")\n",
    "    \n",
    "def calculate_infection_percent(lung, infection):\n",
    "    lung = (lung > 0.25).astype(np.uint8)\n",
    "    infection = (infection > 0.5).astype(np.uint8)\n",
    "    pix_lung = np.count_nonzero(lung)\n",
    "    pix_infection = np.count_nonzero(infection)\n",
    "    percentage = (pix_infection * 100)/ pix_lung\n",
    "    return \"{:.2f}\".format(percentage)"
   ]
  },
  {
   "cell_type": "code",
   "execution_count": null,
   "metadata": {},
   "outputs": [],
   "source": [
    "def get_contours(img):\n",
    "    img = np.uint8(img*255)\n",
    "    img = cv.GaussianBlur(img, (5,5), 0)\n",
    "    \n",
    "    _, binary_img = cv.threshold(img, 50, 255, cv.THRESH_BINARY)\n",
    "    contours, _ = cv.findContours(binary_img, 2, 1)\n",
    "\n",
    "    x, y = img.shape\n",
    "    contours = [cc for cc in contours if is_contour_ok(cc, x * y)]\n",
    "    return contours\n",
    "\n",
    "def is_contour_ok(cc, size):\n",
    "    x, y, w, h = cv.boundingRect(cc)\n",
    "    if ((w < 50 and h > 150) or (w > 150 and h < 50)) : \n",
    "        return False\n",
    "    area = cv.contourArea(cc)\n",
    "    return area < (size * 0.5) and area > 200\n",
    "\n",
    "def find_boundaries(img, contours):\n",
    "    min_y, min_x = img.shape\n",
    "    max_x, max_y = 0, 0\n",
    "\n",
    "    for cc in contours:\n",
    "        x, y, w, h = cv.boundingRect(cc)\n",
    "        if x < min_x: min_x = x\n",
    "        if y < min_y: min_y = y\n",
    "        if x + w > max_x: max_x = x + w\n",
    "        if y + h > max_y: max_y = y + h\n",
    "\n",
    "    return (min_x, min_y, max_x, max_y)\n",
    "\n",
    "def crop(img, boundaries):\n",
    "    min_x, min_y, max_x, max_y = boundaries\n",
    "    return img[min_y:max_y, min_x:max_x]\n",
    "\n",
    "def clahe_enhancer(img):\n",
    "    img = np.uint8(img*255)  \n",
    "    clahe_img = CLAHE.apply(img)\n",
    "        \n",
    "    return clahe_img"
   ]
  },
  {
   "cell_type": "code",
   "execution_count": null,
   "metadata": {},
   "outputs": [],
   "source": [
    "def normalize_image(img):\n",
    "    if img.max() == img.min():\n",
    "        return img\n",
    "\n",
    "    return (img - img.min())/(img.max() - img.min())\n",
    "\n",
    "def load_nii_file(file_name, mask=False):\n",
    "    all_imgs = []\n",
    "    raw_imgs = nib.load(file_name)\n",
    "    raw_imgs = raw_imgs.get_fdata()\n",
    "    raw_imgs = np.rot90(np.array(raw_imgs))\n",
    "    raw_imgs = np.reshape(np.rollaxis(raw_imgs, 2), (raw_imgs.shape[2], raw_imgs.shape[0], raw_imgs.shape[1], 1))\n",
    "\n",
    "    for i in tqdm.tqdm(range(raw_imgs.shape[0])):\n",
    "        img = raw_imgs[i]\n",
    "        img = cv.resize(img, dsize=(ORIGINAL_IMG_SIZE, ORIGINAL_IMG_SIZE), interpolation=cv.INTER_AREA)\n",
    "        img = normalize_image(img)\n",
    "        if mask:\n",
    "            img = np.where(img > 0, 1.0, 0.0)\n",
    "        all_imgs.append(img)\n",
    "\n",
    "    return all_imgs\n",
    "\n",
    "def apply_clahe(imgs):\n",
    "    enhanced_imgs = []\n",
    "    for i in tqdm.tqdm(range(len(imgs))):\n",
    "        enhanced_imgs.append(clahe_enhancer(imgs[i]))\n",
    "    return enhanced_imgs\n",
    "\n",
    "def crop_images_to_lung_bounds(cts, lungs, infections):\n",
    "    all_cropped_cts, all_cropped_lungs, all_cropped_infections = [], [], []\n",
    "    for i in tqdm.tqdm(range(len(cts))):\n",
    "        lung_contours = get_contours(lungs[i])\n",
    "        lung_bounds = find_boundaries(lungs[i], lung_contours)\n",
    "        \n",
    "        cropped_ct = crop(cts[i], lung_bounds)\n",
    "        cropped_lung = crop(lungs[i], lung_bounds)\n",
    "        cropped_infection = crop(infections[i], lung_bounds)\n",
    "        \n",
    "        all_cropped_cts.append(cropped_ct)\n",
    "        all_cropped_lungs.append(cropped_lung)\n",
    "        all_cropped_infections.append(cropped_infection)\n",
    "        \n",
    "    return all_cropped_cts, all_cropped_lungs, all_cropped_infections\n",
    "\n",
    "def resize_and_reshape_to_train_values(cts, lungs, infections):\n",
    "    all_resized_cts, all_resized_lungs, all_resized_infections, errors_index = cts[:], lungs[:], infections[:], []\n",
    "    for i in tqdm.tqdm(range(len(cts))) :\n",
    "        try:\n",
    "            all_resized_cts[i] = cv.resize(all_resized_cts[i], dsize=(TRAIN_IMG_SIZE, TRAIN_IMG_SIZE), interpolation=cv.INTER_AREA)\n",
    "            all_resized_cts[i] = np.reshape(all_resized_cts[i], (TRAIN_IMG_SIZE, TRAIN_IMG_SIZE, TRAIN_IMG_CHANNELS))\n",
    "\n",
    "            all_resized_lungs[i] = cv.resize(all_resized_lungs[i], dsize=(TRAIN_IMG_SIZE, TRAIN_IMG_SIZE), interpolation=cv.INTER_AREA)\n",
    "            all_resized_lungs[i] = np.reshape(all_resized_lungs[i], (TRAIN_IMG_SIZE, TRAIN_IMG_SIZE, TRAIN_IMG_CHANNELS))\n",
    "\n",
    "            all_resized_infections[i] = cv.resize(all_resized_infections[i], dsize=(TRAIN_IMG_SIZE, TRAIN_IMG_SIZE), interpolation=cv.INTER_AREA)\n",
    "            all_resized_infections[i] = np.reshape(all_resized_infections[i], (TRAIN_IMG_SIZE, TRAIN_IMG_SIZE, TRAIN_IMG_CHANNELS))\n",
    "        except Exception as e:\n",
    "            errors_index.append(i)\n",
    "            \n",
    "    return all_resized_cts, all_resized_lungs, all_resized_infections, errors_index\n",
    "\n",
    "def clean_nulls(errors_index, *args):\n",
    "    for arg in args:\n",
    "        for i in reversed(range(len(errors_index))):\n",
    "            del arg[errors_index[i]]"
   ]
  },
  {
   "cell_type": "code",
   "execution_count": null,
   "metadata": {},
   "outputs": [],
   "source": [
    "cts, lungs, infections = [], [], []\n",
    "for i in range(metadata.shape[0]):\n",
    "    print(f\"Loading CT [{metadata.loc[i, 'ct_scan']}], LUNG [{metadata.loc[i, 'lung_mask']}] and INFECTION [{metadata.loc[i, 'infection_mask']}]\")\n",
    "    partial_cts = load_nii_file(metadata.loc[i, 'ct_scan'])\n",
    "    partial_lungs = load_nii_file(metadata.loc[i, 'lung_mask'])\n",
    "    partial_infections = load_nii_file(metadata.loc[i, 'infection_mask'])\n",
    "    cts = cts + partial_cts\n",
    "    lungs = lungs + partial_lungs\n",
    "    infections = infections + partial_infections    "
   ]
  },
  {
   "cell_type": "code",
   "execution_count": null,
   "metadata": {},
   "outputs": [],
   "source": [
    "enhanced_cts = apply_clahe(cts)\n",
    "cropped_cts, cropped_lungs, cropped_infections = crop_images_to_lung_bounds(enhanced_cts, lungs, infections)\n",
    "final_cts, final_lungs, final_infections, errors_index = resize_and_reshape_to_train_values(cropped_cts, cropped_lungs, cropped_infections)\n",
    "clean_nulls(errors_index, cts, lungs, infections, enhanced_cts, cropped_cts, cropped_lungs, cropped_infections, final_cts, final_lungs, final_infections)"
   ]
  },
  {
   "cell_type": "code",
   "execution_count": null,
   "metadata": {},
   "outputs": [],
   "source": [
    "i = np.random.randint(low=0, high=len(cts))\n",
    "fig, axes = plt.subplots(3, 4, figsize=(20,10))    \n",
    "show_data(cts, lungs, infections, i, list(axes[:, 0]))\n",
    "show_data(enhanced_cts, lungs, infections, i, list(axes[:, 1]))\n",
    "show_data(cropped_cts, cropped_lungs, cropped_infections, i, list(axes[:, 2]))\n",
    "show_data(final_cts, final_lungs, final_infections, i, list(axes[:, 3]))"
   ]
  },
  {
   "cell_type": "code",
   "execution_count": null,
   "metadata": {
    "id": "YLUhVStqhiKR",
    "outputId": "6b3b2269-2641-4e0e-caa4-9a5f924b563b",
    "scrolled": true
   },
   "outputs": [],
   "source": [
    "total = len(final_infections)\n",
    "infect_bool = np.ones(total)\n",
    "for i in range(total):\n",
    "    if np.unique(final_infections[i]).size == 1:\n",
    "        infect_bool[i] = 0\n",
    "        \n",
    "print(f\"Total CTs - {total}\")\n",
    "print(f\"Infected CTs - {int(infect_bool.sum())}\")\n",
    "print(f\"Non Infected CTs - {int(total - infect_bool.sum())}\")"
   ]
  },
  {
   "cell_type": "markdown",
   "metadata": {
    "id": "lgnkAVXNQDrK"
   },
   "source": [
    "## Data augmentation pipeline"
   ]
  },
  {
   "cell_type": "code",
   "execution_count": null,
   "metadata": {
    "id": "FtPxTrX-7Tmh"
   },
   "outputs": [],
   "source": [
    "seq = iaa.Sequential([\n",
    "    iaa.Fliplr(0.5),\n",
    "    iaa.Flipud(0.5),\n",
    "    iaa.Affine(\n",
    "        scale={\"x\": (0.8, 1.2), \"y\": (0.8, 1.2)},\n",
    "        translate_percent={\"x\": (-0.2, 0.2), \"y\": (-0.2, 0.2)},\n",
    "        rotate=(-15, 15),\n",
    "        shear=(-15, 15)\n",
    "    )\n",
    "], random_order=True)"
   ]
  },
  {
   "cell_type": "code",
   "execution_count": null,
   "metadata": {
    "id": "2IK6OKW131Gr",
    "outputId": "3b01e722-705a-4034-dee8-86da0d89e5f1"
   },
   "outputs": [],
   "source": [
    "seq_det = seq.to_deterministic()\n",
    "augmented_cts = seq_det.augment_images(final_cts)\n",
    "augmented_lungs = seq_det.augment_images(final_lungs)\n",
    "augmented_infections = seq_det.augment_images(final_infections)"
   ]
  },
  {
   "cell_type": "code",
   "execution_count": null,
   "metadata": {},
   "outputs": [],
   "source": [
    "i = np.random.randint(low=0, high=len(final_cts), size=2)\n",
    "fig, axes = plt.subplots(3, 4, figsize=(20,10))\n",
    "\n",
    "show_data(final_cts, final_lungs, final_infections, i[0], list(axes[:, 0]))\n",
    "show_data(augmented_cts, augmented_lungs, augmented_infections, i[0], list(axes[:, 1]))\n",
    "show_data(final_cts, final_lungs, final_infections, i[1], list(axes[:, 2]))\n",
    "show_data(augmented_cts, augmented_lungs, augmented_infections, i[1], list(axes[:, 3]))"
   ]
  },
  {
   "cell_type": "code",
   "execution_count": null,
   "metadata": {},
   "outputs": [],
   "source": [
    "all_ct_data = final_cts + augmented_cts\n",
    "all_lung_data = final_lungs + augmented_lungs\n",
    "all_infection_data = final_infections + augmented_infections\n",
    "\n",
    "all_ct_data = np.asarray(all_ct_data)\n",
    "all_lung_data = np.asarray(all_lung_data)\n",
    "all_infection_data = np.asarray(all_infection_data)\n",
    "\n",
    "all_ct_data, all_lung_data, all_infection_data = shuffle(all_ct_data, all_lung_data, all_infection_data, random_state=SEED)"
   ]
  },
  {
   "cell_type": "code",
   "execution_count": null,
   "metadata": {},
   "outputs": [],
   "source": [
    "i = np.random.randint(low=0, high=len(all_ct_data), size=4)\n",
    "fig, axes = plt.subplots(3, 4, figsize=(20,10))\n",
    "\n",
    "show_data(all_ct_data, all_lung_data, all_infection_data, i[0], list(axes[:, 0]))\n",
    "show_data(all_ct_data, all_lung_data, all_infection_data, i[1], list(axes[:, 1]))\n",
    "show_data(all_ct_data, all_lung_data, all_infection_data, i[2], list(axes[:, 2]))\n",
    "show_data(all_ct_data, all_lung_data, all_infection_data, i[3], list(axes[:, 3]))"
   ]
  },
  {
   "cell_type": "markdown",
   "metadata": {},
   "source": [
    "## Split data into train and validation sets"
   ]
  },
  {
   "cell_type": "code",
   "execution_count": null,
   "metadata": {},
   "outputs": [],
   "source": [
    "train_size = int(0.8 * all_ct_data.shape[0])\n",
    "test_size = int(0.1 * all_ct_data.shape[0])\n",
    "\n",
    "X_train, y_lung_train, y_infection_train = (all_ct_data[:train_size]/255, \n",
    "                               all_lung_data[:train_size], \n",
    "                               all_infection_data[:train_size])\n",
    "\n",
    "X_validation, y_lung_validation, y_infection_validation = (all_ct_data[train_size:train_size+test_size]/255, \n",
    "                               all_lung_data[train_size:train_size+test_size],\n",
    "                               all_infection_data[train_size:train_size+test_size])\n",
    "\n",
    "X_test, y_lung_test, y_infection_test = (all_ct_data[train_size+test_size:]/255, \n",
    "                            all_lung_data[train_size+test_size:],\n",
    "                            all_infection_data[train_size+test_size:])\n",
    "\n",
    "print(X_train.shape, y_lung_train.shape, y_infection_train.shape)\n",
    "print(X_validation.shape, y_lung_validation.shape, y_infection_validation.shape)\n",
    "print(X_test.shape, y_lung_test.shape, y_infection_test.shape)"
   ]
  },
  {
   "cell_type": "markdown",
   "metadata": {},
   "source": [
    "## Model"
   ]
  },
  {
   "cell_type": "code",
   "execution_count": null,
   "metadata": {},
   "outputs": [],
   "source": [
    "def unet_block_down(filter_value, input_ts):\n",
    "    c = Conv2D(filter_value, (3, 3), activation='relu', kernel_initializer='he_normal', padding='same')(input_ts)\n",
    "    c = Dropout(0.1)(c)\n",
    "    c = Conv2D(filter_value, (3, 3), activation='relu', kernel_initializer='he_normal', padding='same')(c)\n",
    "    p = MaxPooling2D((2, 2))(c)\n",
    "    \n",
    "    return c, p\n",
    "\n",
    "def unet_block_up(filter_value, input_ts, concat_ts):\n",
    "    u = Conv2DTranspose(filter_value, (2, 2), strides=(2, 2), padding='same')(input_ts)\n",
    "    u = concatenate([u, concat_ts])\n",
    "    c = Conv2D(filter_value, (3, 3), activation='relu', kernel_initializer='he_normal', padding='same')(u)\n",
    "    c = Dropout(0.1)(c)\n",
    "    c = Conv2D(filter_value, (3, 3), activation='relu', kernel_initializer='he_normal', padding='same')(c)\n",
    "    \n",
    "    return u, c\n",
    "\n",
    "def unet(input_shape) :\n",
    "    \n",
    "    inputs = Input(input_shape)\n",
    "    \n",
    "    c1, p1 = unet_block_down(64, inputs)\n",
    "    c2, p2 = unet_block_down(128, p1)\n",
    "    c3, p3 = unet_block_down(256, p2)\n",
    "    c4, p4 = unet_block_down(512, p3)\n",
    "\n",
    "    c5 = Conv2D(256, (3, 3), activation='relu', kernel_initializer='he_normal', padding='same')(p4)\n",
    "    c5 = Dropout(0.1)(c5)\n",
    "    c5 = Conv2D(256, (3, 3), activation='relu', kernel_initializer='he_normal', padding='same')(c5)\n",
    "\n",
    "    u6, c6 = unet_block_up(512, c5, c4)\n",
    "    u7, c7 = unet_block_up(256, c6, c3)\n",
    "    u8, c8 = unet_block_up(128, c7, c2)\n",
    "    u9, c9 = unet_block_up(64, c8, c1)\n",
    "\n",
    "    lung_seg = Conv2D(1, (1, 1), activation='sigmoid', name='lung_output')(c9)\n",
    "                \n",
    "    c1, p1 = unet_block_down(64, inputs)\n",
    "    c2, p2 = unet_block_down(128, p1)\n",
    "    c3, p3 = unet_block_down(256, p2)\n",
    "    c4, p4 = unet_block_down(512, p3)\n",
    "\n",
    "    c5 = Conv2D(256, (3, 3), activation='relu', kernel_initializer='he_normal', padding='same')(p4)\n",
    "    c5 = Dropout(0.1)(c5)\n",
    "    c5 = Conv2D(256, (3, 3), activation='relu', kernel_initializer='he_normal', padding='same')(c5)\n",
    "\n",
    "    u6, c6 = unet_block_up(512, c5, c4)\n",
    "    u7, c7 = unet_block_up(256, c6, c3)\n",
    "    u8, c8 = unet_block_up(128, c7, c2)\n",
    "    u9, c9 = unet_block_up(64, c8, c1)\n",
    "\n",
    "    infect_seg = Conv2D(1, (1, 1), activation='sigmoid', name='infect_output')(c9)\n",
    "\n",
    "    model = Model(inputs=inputs, outputs=[lung_seg, infect_seg], name='unet_model')\n",
    "    \n",
    "    return model"
   ]
  },
  {
   "cell_type": "code",
   "execution_count": null,
   "metadata": {
    "id": "BzRB_ckIUWaO",
    "outputId": "d154429b-cbbf-487e-f353-0da23a02bcb2"
   },
   "outputs": [],
   "source": [
    "def cts_block_down(filter_value, input_ts, pool_size=(2, 2)) :\n",
    "    c = Conv2D(filter_value, (3,3), activation='relu', padding='same', kernel_initializer=\"he_normal\")(input_ts)\n",
    "    c = Conv2D(filter_value, (3, 3), activation='relu', padding='same', kernel_initializer=\"he_normal\")(c)\n",
    "    p = BatchNormalization()(c)\n",
    "    c = MaxPooling2D(pool_size)(p) \n",
    "    c = Dropout(0.2)(c) \n",
    "    \n",
    "    return c, p\n",
    "\n",
    "def cts_block_up(filter_value, input_ts) :\n",
    "    c = BatchNormalization() (input_ts)\n",
    "    c = Conv2D(filter_value, (3, 3), activation='relu', padding='same', kernel_initializer=\"he_normal\") (c)\n",
    "    c = Conv2D(filter_value, (3, 3), activation='relu', padding='same', kernel_initializer=\"he_normal\") (c) \n",
    "    \n",
    "    return c\n",
    "\n",
    "def cts_model(input_shape) :\n",
    "    \n",
    "    inputs = Input(input_shape)\n",
    "    \n",
    "    c1, p1 = cts_block_down(32, inputs)\n",
    "    c2, p2 = cts_block_down(64, c1)\n",
    "    c3, _ = cts_block_down(128, c2, pool_size=(1, 1))\n",
    "    c4, _ = cts_block_down(256, c3, pool_size=(1, 1))\n",
    "\n",
    "    u5 = cts_block_up(256, c4)\n",
    "    u5 = Conv2DTranspose(128, (2, 2), strides=(2,2), padding='same')(u5) \n",
    "    \n",
    "    u6 = cts_block_up(128, u5)\n",
    "    u6 = Conv2DTranspose(64, (2, 2), padding='same')(u6)\n",
    "    u6 = concatenate([u6, p2])\n",
    "    \n",
    "    u7 = cts_block_up(64, u6)\n",
    "    u7 = Conv2DTranspose(32, (2, 2), strides=(2,2), padding='same')(u7)\n",
    "    u7 = concatenate([u7, p1], axis=3)\n",
    "    \n",
    "    u8 = cts_block_up(32, u7)\n",
    "\n",
    "    lung_seg = Conv2D(1, (1, 1), activation='sigmoid', name='lung_output') (u8) \n",
    "\n",
    "    c1, p1 = cts_block_down(32, lung_seg)\n",
    "    c2, p2 = cts_block_down(64, c1)\n",
    "    c3, _ = cts_block_down(128, c2, pool_size=(1, 1))\n",
    "    c4, _ = cts_block_down(256, c3, pool_size=(1, 1))\n",
    "\n",
    "    u5 = cts_block_up(256, c4)\n",
    "    u5 = Conv2DTranspose(128, (2, 2), strides=(2,2), padding='same')(u5) \n",
    "    \n",
    "    u6 = cts_block_up(128, u5)\n",
    "    u6 = Conv2DTranspose(64, (2, 2), padding='same')(u6)\n",
    "    u6 = concatenate([u6, p2])\n",
    "    \n",
    "    u7 = cts_block_up(64, u6)\n",
    "    u7 = Conv2DTranspose(32, (2, 2), strides=(2,2), padding='same')(u7)\n",
    "    u7 = concatenate([u7, p1], axis=3)\n",
    "    \n",
    "    u8 = cts_block_up(32, u7)\n",
    "    \n",
    "    infect_seg = Conv2D(1, (1, 1), activation='sigmoid', name='infect_output') (u8)\n",
    "\n",
    "    model = Model(inputs=inputs, outputs=[lung_seg, infect_seg], name='cts_model')\n",
    "    \n",
    "    return model"
   ]
  },
  {
   "cell_type": "code",
   "execution_count": null,
   "metadata": {
    "scrolled": true
   },
   "outputs": [],
   "source": [
    "ctsModel = cts_model((TRAIN_IMG_SIZE, TRAIN_IMG_SIZE, TRAIN_IMG_CHANNELS))\n",
    "ctsModel.summary()"
   ]
  },
  {
   "cell_type": "code",
   "execution_count": null,
   "metadata": {
    "id": "nWVcyLhz_tE1"
   },
   "outputs": [],
   "source": [
    "callbacks = [EarlyStopping(patience=6, monitor='val_loss'), \n",
    "             ReduceLROnPlateau(factor=np.sqrt(0.1), patience=2, min_lr=0.5e-6)]"
   ]
  },
  {
   "cell_type": "markdown",
   "metadata": {},
   "source": [
    "## Training"
   ]
  },
  {
   "cell_type": "code",
   "execution_count": null,
   "metadata": {
    "id": "HQwjFmYd63iP",
    "outputId": "73106f1a-5599-4cf6-852d-efef359845f8",
    "scrolled": true
   },
   "outputs": [],
   "source": [
    "ctsModel.compile(optimizer='adam', loss='binary_crossentropy', metrics=['accuracy'])\n",
    "\n",
    "ctsRes = ctsModel.fit(x=X_train, \n",
    "                      y={'lung_output': y_lung_train, 'infect_output': y_infection_train}, \n",
    "                      batch_size=16, \n",
    "                      epochs=100,\n",
    "                      verbose=1,\n",
    "                      validation_data=(X_validation, \n",
    "                                       {'lung_output': y_lung_validation, 'infect_output': y_infection_validation}),\n",
    "                      callbacks = callbacks)"
   ]
  },
  {
   "cell_type": "code",
   "execution_count": null,
   "metadata": {
    "id": "HddKr4NwNq5K",
    "outputId": "c6d719ab-98ca-43f1-f406-91c5a1370e56"
   },
   "outputs": [],
   "source": [
    "plt.style.use('ggplot')\n",
    "\n",
    "fig, axes = plt.subplots(1, 2, figsize=(20,10))\n",
    "\n",
    "axes[0].plot(ctsRes.history['lung_output_accuracy'], color='b', label='acurácia pulmão treinamento')\n",
    "axes[0].plot(ctsRes.history['infect_output_accuracy'], color='c', label='acurácia infecção treinamento')\n",
    "axes[0].plot(ctsRes.history['val_lung_output_accuracy'], color='r', label='acurácia pulmão validação')\n",
    "axes[0].plot(ctsRes.history['val_infect_output_accuracy'], color='m', label='acurácia infecção validação')\n",
    "axes[0].set_ylabel('Acurácia')\n",
    "axes[0].set_xlabel('Época')\n",
    "axes[0].legend()\n",
    "axes[0].set_ylim([0.5, 1])\n",
    "axes[0].set_facecolor('w')\n",
    "axes[0].grid(color='grey', linestyle=':', linewidth=0.5)\n",
    "\n",
    "axes[1].plot(ctsRes.history['loss'], color='g', label='custo geral')\n",
    "axes[1].plot(ctsRes.history['lung_output_loss'], color='b', label='custo pulmão treinamento')\n",
    "axes[1].plot(ctsRes.history['infect_output_loss'], color='c', label='custo infecção treinamento')\n",
    "axes[1].plot(ctsRes.history['val_loss'], color='y', label='validação geral')\n",
    "axes[1].plot(ctsRes.history['val_lung_output_loss'], color='r', label='custo pulmão validação')\n",
    "axes[1].plot(ctsRes.history['val_infect_output_loss'], color='m', label='custo infecção validação')\n",
    "axes[1].set_ylabel('Custo')\n",
    "axes[1].set_xlabel('Época')\n",
    "axes[1].legend()\n",
    "axes[1].set_ylim([0,1])\n",
    "axes[1].set_facecolor('w')\n",
    "axes[1].grid(color='grey', linestyle=':', linewidth=0.5)\n"
   ]
  },
  {
   "cell_type": "code",
   "execution_count": null,
   "metadata": {
    "id": "vO9LcNaP6rv3",
    "outputId": "40cf638b-1119-4489-a54d-38c4e33e9fa6"
   },
   "outputs": [],
   "source": [
    "test_result = ctsModel.evaluate(x=X_test, \n",
    "                                y={'lung_output': y_lung_test, 'infect_output': y_infection_test},\n",
    "                                batch_size=32)\n",
    "\n",
    "print('Test data:\\n\\t Lung: %.4f loss, %.4f dice coeff\\n\\t Infection: %.4f loss, %.4f dice coeff' \n",
    "      %(test_result[1], test_result[3], test_result[2], test_result[4]))"
   ]
  },
  {
   "cell_type": "code",
   "execution_count": null,
   "metadata": {},
   "outputs": [],
   "source": [
    "y_lung_pred, y_infection_pred = ctsModel.predict(X_test)\n",
    "y_lung_pred_bin = (y_lung_pred > 0.25).astype(np.uint8)\n",
    "y_infection_pred_bin = (y_infection_pred > 0.5).astype(np.uint8)"
   ]
  },
  {
   "cell_type": "code",
   "execution_count": null,
   "metadata": {
    "id": "tY4c_PUJo9W8"
   },
   "outputs": [],
   "source": [
    "i = np.random.randint(low=0, high=len(X_test))\n",
    "fig = plt.figure(figsize=(12,7))\n",
    "\n",
    "plt.subplot(2,3,1)\n",
    "plt.imshow(tf.reshape(X_test[i], [TRAIN_IMG_SIZE, TRAIN_IMG_SIZE]), cmap='bone')\n",
    "plt.axis('off')\n",
    "plt.title('Tomografia')\n",
    "\n",
    "plt.subplot(2,3,2)\n",
    "plt.imshow(tf.reshape(y_lung_test[i], [TRAIN_IMG_SIZE, TRAIN_IMG_SIZE]), cmap='bone')\n",
    "plt.axis('off')\n",
    "plt.title('Máscara pulmonar')\n",
    "\n",
    "plt.subplot(2,3,3)\n",
    "plt.imshow(tf.reshape(y_infection_test[i], [TRAIN_IMG_SIZE, TRAIN_IMG_SIZE]), cmap='bone')\n",
    "plt.axis('off')\n",
    "plt.title('Máscara das lesões')\n",
    "\n",
    "plt.subplot(2,3,5)\n",
    "plt.imshow(tf.reshape(y_lung_pred_bin[i], [TRAIN_IMG_SIZE, TRAIN_IMG_SIZE]), cmap='bone')\n",
    "plt.axis('off')\n",
    "plt.title('Máscara pulmonar prevista')\n",
    "\n",
    "plt.subplot(2,3,6)\n",
    "plt.imshow(tf.reshape(y_infection_pred_bin[i], [TRAIN_IMG_SIZE, TRAIN_IMG_SIZE]), cmap='bone')\n",
    "plt.axis('off')\n",
    "plt.title('Máscara das lesões prevista')"
   ]
  },
  {
   "cell_type": "code",
   "execution_count": null,
   "metadata": {},
   "outputs": [],
   "source": [
    "i = np.random.randint(low=0, high=len(X_test), size=4)\n",
    "fig, axes = plt.subplots(2, 4, figsize=(20,10))\n",
    "\n",
    "show_overlay_infection(X_test, y_infection_pred_bin, calculate_infection_percent(y_lung_pred[0], y_infection_pred[0]), 0, list(axes[:, 0]))\n",
    "show_overlay_infection(X_test, y_infection_pred_bin, calculate_infection_percent(y_lung_pred[160], y_infection_pred[160]), 160, list(axes[:, 1]))\n",
    "show_overlay_infection(X_test, y_infection_pred_bin, calculate_infection_percent(y_lung_pred[313], y_infection_pred[313]), 313, list(axes[:, 2]))\n",
    "show_overlay_infection(X_test, y_infection_pred_bin, calculate_infection_percent(y_lung_pred[154], y_infection_pred[154]), 154, list(axes[:, 3]))"
   ]
  },
  {
   "cell_type": "code",
   "execution_count": null,
   "metadata": {},
   "outputs": [],
   "source": []
  }
 ],
 "metadata": {
  "kernelspec": {
   "display_name": "Python 3",
   "language": "python",
   "name": "python3"
  },
  "language_info": {
   "codemirror_mode": {
    "name": "ipython",
    "version": 3
   },
   "file_extension": ".py",
   "mimetype": "text/x-python",
   "name": "python",
   "nbconvert_exporter": "python",
   "pygments_lexer": "ipython3",
   "version": "3.6.12"
  }
 },
 "nbformat": 4,
 "nbformat_minor": 4
}
